{
 "cells": [
  {
   "cell_type": "markdown",
   "id": "d619f552-9310-4dff-9c4a-e4a42296866e",
   "metadata": {},
   "source": [
    "# Compound Events\n",
    "### Metrics\n",
    "|suffix|definition|note|\n",
    "|--|--|--|\n",
    "|day_total|Total Compound Days|a day that satisfies all conditions|\n",
    "|sequence_total|Total Compound Sequence|a sequence of at least 2 consecutive compound days|\n",
    "|event_total|Total Compound Event|a day that is a part of a compound sequence|\n",
    "|duration_mean|Average Compound Sequence Duration||\n",
    "|duration_max|Max Compound Sequence Duration||\n",
    "\n",
    "### Compound Dry Hot Event (CDHE), Compound Wet Hot Event (CWHE)\n",
    "- Variables: spi, temperature\n",
    "- Base Years: 1981-2020\n",
    "- SSP Years: 2021-2100\n",
    "- https://github.com/e-baumer/standard_precip\n",
    "\n",
    "### Compound Flooding Event (CFE)\n",
    "- Variables: rzsm, accumulated precipitation\n",
    "- Base Years: 1950-2014\n",
    "- SSP Years: 2015-2099 (rzsm only has 1/1 for 2100)\n",
    "- RZSM ONLY HAS HISTORICAL AND SSP245\n"
   ]
  },
  {
   "cell_type": "markdown",
   "id": "11c793b4-694d-4024-98ac-88dc76175d69",
   "metadata": {},
   "source": [
    "# Process Data"
   ]
  },
  {
   "cell_type": "code",
   "execution_count": null,
   "id": "32e1334a-0668-4b5c-98f7-4596317a880a",
   "metadata": {},
   "outputs": [],
   "source": [
    "# # Load RZSM dat files into csv files\n",
    "# !python rzsm.py -i '../data/CASI2_RZSM_RAW.zip' -o '../data/compound'\n",
    "\n",
    "# # Combine all relevant daily files into one parquet file\n",
    "# !python combine_raw.py -i '../data/compound' -o '../data' -v {' '.join(['pr', 'tasmax', 'rzsm'])}\n",
    "\n",
    "# # Get thresholds for variables that use percentiles instead of fixed numbers\n",
    "# !python set_thresholds.py -i '../data/compound_raw.parquet' -o '../data/compound_thresholds.csv'\n",
    "\n",
    "# # Calculate compound metrics\n",
    "# !python get_compound.py -i '../data/' -o '../data/compound_results.parquet' -e {' '.join(['CDHE', 'CDHE2', 'CWHE', 'CWHE2', 'CFE'])}\n",
    "\n",
    "# # does not work\n",
    "# # !python get_compound.py -i '../data/' -o '../data/drought_flood.parquet' -e {' '.join(['drought', 'flood'])}"
   ]
  },
  {
   "cell_type": "markdown",
   "id": "fa0268eb-c45f-4458-a099-9bf74a84d66d",
   "metadata": {},
   "source": [
    "# Analysis"
   ]
  },
  {
   "cell_type": "code",
   "execution_count": null,
   "id": "d59b3a6e-fc3e-41d6-8ca8-762135445a19",
   "metadata": {},
   "outputs": [],
   "source": [
    "import pandas as pd\n",
    "import dashboard\n",
    "\n",
    "# raw = pd.read_parquet('../data/compound_raw.parquet')\n",
    "# results = pd.read_parquet('../data/compound_results.parquet')\n",
    "# mme_raw = pd.read_parquet('../data/compound_mme_raw.parquet')\n",
    "# mme_results = pd.read_parquet('../data/compound_mme_results.parquet')"
   ]
  },
  {
   "cell_type": "code",
   "execution_count": null,
   "id": "38cf5e6c-3ee4-4f4f-b50e-0ca1ed64fc98",
   "metadata": {},
   "outputs": [],
   "source": [
    "desc = {\n",
    "    'Model Agg': 'aggregation method across CMIP6 models',\n",
    "    'Time': 'temporal Resolution',\n",
    "    'Time Agg': 'aggregation method across chosen (model agg method, temporal resolution)',\n",
    "    'Months': 'what months to include (multi select)',\n",
    "}"
   ]
  },
  {
   "cell_type": "code",
   "execution_count": null,
   "id": "b3fd426e-a020-42e7-bd11-2461c8f04133",
   "metadata": {},
   "outputs": [],
   "source": [
    "dashboard.dashboard_1()"
   ]
  },
  {
   "cell_type": "code",
   "execution_count": null,
   "id": "557bb100-5d67-4802-b633-634d07c0dfb9",
   "metadata": {},
   "outputs": [],
   "source": [
    "dashboard.dashboard_2()"
   ]
  },
  {
   "cell_type": "code",
   "execution_count": null,
   "id": "dd1ec5f4-a068-4179-9250-f77eee968b9b",
   "metadata": {},
   "outputs": [],
   "source": [
    "dashboard.dashboard_3()"
   ]
  },
  {
   "cell_type": "code",
   "execution_count": null,
   "id": "74c2db1d-dbee-4bdf-a42b-1ff788697903",
   "metadata": {},
   "outputs": [],
   "source": []
  }
 ],
 "metadata": {
  "kernelspec": {
   "display_name": "Python 3 (ipykernel)",
   "language": "python",
   "name": "python3"
  },
  "language_info": {
   "codemirror_mode": {
    "name": "ipython",
    "version": 3
   },
   "file_extension": ".py",
   "mimetype": "text/x-python",
   "name": "python",
   "nbconvert_exporter": "python",
   "pygments_lexer": "ipython3",
   "version": "3.13.2"
  }
 },
 "nbformat": 4,
 "nbformat_minor": 5
}
