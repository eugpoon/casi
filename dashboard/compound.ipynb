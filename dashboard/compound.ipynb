{
 "cells": [
  {
   "cell_type": "markdown",
   "id": "d619f552-9310-4dff-9c4a-e4a42296866e",
   "metadata": {},
   "source": [
    "# Compound Events\n",
    "### Metrics\n",
    "|suffix|definition|note|\n",
    "|--|--|--|\n",
    "|day_total|Total Compound Days|a day that satisfies all conditions|\n",
    "|sequence_total|Total Compound Sequence|a sequence of at least 2 consecutive compound days|\n",
    "|event_total|Total Compound Event|a day that is a part of a compound sequence|\n",
    "|duration_mean|Average Compound Sequence Duration||\n",
    "|duration_max|Max Compound Sequence Duration||\n",
    "\n",
    "### Compound Dry Hot Event (CDHE), Compound Wet Hot Event (CWHE)\n",
    "- Variables: spi, temperature\n",
    "- Base Years: 1981-2020\n",
    "- SSP Years: 2021-2100\n",
    "- https://github.com/e-baumer/standard_precip\n",
    "\n",
    "### Compound Flooding Event (CFE)\n",
    "- Variables: rzsm, accumulated precipitation\n",
    "- Base Years: 1950-2014\n",
    "- SSP Years: 2015-2099 (rzsm only has 1/1 for 2100)\n",
    "- RZSM ONLY HAS HISTORICAL AND SSP245\n"
   ]
  },
  {
   "cell_type": "markdown",
   "id": "11c793b4-694d-4024-98ac-88dc76175d69",
   "metadata": {},
   "source": [
    "# Process Data\n",
    "### Load RZSM dat files into csv"
   ]
  },
  {
   "cell_type": "code",
   "execution_count": 1,
   "id": "32e1334a-0668-4b5c-98f7-4596317a880a",
   "metadata": {},
   "outputs": [],
   "source": [
    "# !python rzsm.py -i '../data/CASI2_RZSM_RAW' -o '../data/compound'"
   ]
  },
  {
   "cell_type": "markdown",
   "id": "95dc3796-8885-40f7-a254-d94ae5555ff3",
   "metadata": {},
   "source": [
    "### Get Results"
   ]
  },
  {
   "cell_type": "code",
   "execution_count": 2,
   "id": "ad83602d-4603-42d6-aaf6-22b5a473071a",
   "metadata": {},
   "outputs": [],
   "source": [
    "# %%time\n",
    "# # ~5 minutes\n",
    "\n",
    "# centers = ['AMES', 'GSFC', 'JPL', 'KSC', 'MSFC', 'MAF', 'GISS',\n",
    "#            'LARC', 'SSC', 'GRC', 'WFF', 'JSC', 'WSTF', 'AFRC']\n",
    "# events = ['CDHE', 'CFE']\n",
    "\n",
    "# from process_all import run_analysis\n",
    "# run_analysis(centers, events)"
   ]
  },
  {
   "cell_type": "markdown",
   "id": "565d86b3-e3bd-4979-988f-ee1f3c67db38",
   "metadata": {},
   "source": [
    "# Analysis"
   ]
  },
  {
   "cell_type": "code",
   "execution_count": 3,
   "id": "67de68d1-c400-4872-a734-9663b113e931",
   "metadata": {},
   "outputs": [],
   "source": [
    "from dashboard import VariableAnalysis, SeverityAnalysis, MetricComparison, JupyterDash"
   ]
  },
  {
   "cell_type": "markdown",
   "id": "1b6aca9f-02e6-4622-a221-e32ec0d1ee49",
   "metadata": {},
   "source": [
    "## Trends"
   ]
  },
  {
   "cell_type": "code",
   "execution_count": 4,
   "id": "66f4f75f-44d1-4f2b-ae0a-84da84e918f9",
   "metadata": {},
   "outputs": [
    {
     "data": {
      "text/html": [
       "\n",
       "        <iframe\n",
       "            width=\"100%\"\n",
       "            height=\"700\"\n",
       "            src=\"http://127.0.0.1:8050/\"\n",
       "            frameborder=\"0\"\n",
       "            allowfullscreen\n",
       "            \n",
       "        ></iframe>\n",
       "        "
      ],
      "text/plain": [
       "<IPython.lib.display.IFrame at 0x162a06cf0>"
      ]
     },
     "metadata": {},
     "output_type": "display_data"
    }
   ],
   "source": [
    "VariableAnalysis().run()"
   ]
  },
  {
   "cell_type": "markdown",
   "id": "3a7ebc8b-caaa-43fa-83f7-06a9af10ec17",
   "metadata": {},
   "source": [
    "## Compound - Severity Comparison"
   ]
  },
  {
   "cell_type": "code",
   "execution_count": 5,
   "id": "f9bdc221-6c41-4206-9080-4cb0972a4d29",
   "metadata": {},
   "outputs": [
    {
     "data": {
      "text/html": [
       "\n",
       "        <iframe\n",
       "            width=\"100%\"\n",
       "            height=\"1200\"\n",
       "            src=\"http://127.0.0.1:8051/\"\n",
       "            frameborder=\"0\"\n",
       "            allowfullscreen\n",
       "            \n",
       "        ></iframe>\n",
       "        "
      ],
      "text/plain": [
       "<IPython.lib.display.IFrame at 0x162b1a210>"
      ]
     },
     "metadata": {},
     "output_type": "display_data"
    }
   ],
   "source": [
    "SeverityAnalysis().run()"
   ]
  },
  {
   "cell_type": "markdown",
   "id": "5c0714d9-5ee5-4ac1-acd1-872e9b23ee01",
   "metadata": {},
   "source": [
    "## Compound - Metric Comparison"
   ]
  },
  {
   "cell_type": "code",
   "execution_count": 6,
   "id": "7721cc46-09a7-488a-b266-152a9fe6df83",
   "metadata": {},
   "outputs": [
    {
     "data": {
      "text/html": [
       "\n",
       "        <iframe\n",
       "            width=\"100%\"\n",
       "            height=\"800\"\n",
       "            src=\"http://127.0.0.1:8052/\"\n",
       "            frameborder=\"0\"\n",
       "            allowfullscreen\n",
       "            \n",
       "        ></iframe>\n",
       "        "
      ],
      "text/plain": [
       "<IPython.lib.display.IFrame at 0x162b19d10>"
      ]
     },
     "metadata": {},
     "output_type": "display_data"
    }
   ],
   "source": [
    "MetricComparison().run()"
   ]
  },
  {
   "cell_type": "code",
   "execution_count": 7,
   "id": "c90e1d56-7892-4ce5-857f-17090b892663",
   "metadata": {},
   "outputs": [],
   "source": [
    "# might need to add\n",
    "# %%time\n",
    "# %%capture\n",
    "\n",
    "# def process_scale(s, threshold):\n",
    "#     print(s)\n",
    "#     _, result_, _, _ = Compound(center, event, months, freq, s, threshold, gamma_n).main()\n",
    "#     result_.insert(0, 'scale', s)\n",
    "#     return result_.drop(columns='threshold')\n",
    "\n",
    "# if event in ['CWHE','CDHE']:\n",
    "#     scales = [7, 14, 30, 60, 90][:2] # days\n",
    "#     threshold = ({'spi': ['<', [-1]], # standardized\n",
    "#                   'tasmax': ['>', [f_to_c(90)]], # tm (f->c)\n",
    "#                  }, False)\n",
    "#     result_ = [process_scale(s, threshold) for s in scales]\n",
    "#     result_ = pd.concat(result_, ignore_index=True)\n",
    "\n",
    "# if event in ['CWHE','CDHE']:\n",
    "#     Plot(center, months, '', '').scale_comp(result_, metrics)\n",
    "\n",
    "# # (accummulated) precipitation: all ssp's for ssp years\n",
    "# if 'spi' not in dfs:\n",
    "#     display(dfs['daily'].filter(regex='_pr').describe(percentiles=[0.95, 0.995, 0.999, 0.9999]).T.round(2))\n",
    "\n",
    "# aa = dfs['daily'].filter(regex='mean').reset_index()\n",
    "# aa.date = aa.date.apply(lambda x: x.replace(day=1))\n",
    "# aa = aa.groupby(['ssp', 'date']).mean()\n",
    "# aa = (aa - aa.min()) / (aa.max() - aa.min())\n",
    "# for i, (ssp, dd) in enumerate(aa.groupby('ssp')):\n",
    "#     # dd = (dd - dd.min()) / (dd.max() - dd.min())\n",
    "#     bb = pd.melt(dd, value_vars=dd.columns, ignore_index=False).reset_index().dropna()\n",
    "#     sns.lineplot(data=bb, x='date', y='value', hue='variable', linewidth=0.5)\n",
    "#     # plt.c\n",
    "#     plt.show()"
   ]
  },
  {
   "cell_type": "code",
   "execution_count": null,
   "id": "da5163f5-819e-43e5-a035-55c8de5b5b28",
   "metadata": {},
   "outputs": [],
   "source": []
  }
 ],
 "metadata": {
  "kernelspec": {
   "display_name": "Python 3 (ipykernel)",
   "language": "python",
   "name": "python3"
  },
  "language_info": {
   "codemirror_mode": {
    "name": "ipython",
    "version": 3
   },
   "file_extension": ".py",
   "mimetype": "text/x-python",
   "name": "python",
   "nbconvert_exporter": "python",
   "pygments_lexer": "ipython3",
   "version": "3.13.2"
  }
 },
 "nbformat": 4,
 "nbformat_minor": 5
}
