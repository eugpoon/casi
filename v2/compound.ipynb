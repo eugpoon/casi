{
 "cells": [
  {
   "cell_type": "markdown",
   "id": "60283c7b-4587-4d09-98e1-7af760d8095a",
   "metadata": {},
   "source": [
    "# Compound Events\n",
    "- https://github.com/e-baumer/standard_precip\n",
    "- https://github.com/e-baumer/standard_precip/blob/master/standard_precip/base_sp.py\n",
    "- Handle missing data to calculate spi (last paragraph) https://www.droughtmanagement.info/literature/WMO_standardized_precipitation_index_user_guide_en_2012.pdf#page=9\n",
    "\n",
    "\n",
    "### SPI:\n",
    "- Add options\n",
    "    - freq = ['D', 'M']\n",
    "    - scale = #\n",
    "- If freq == 'M': get monthly pr files\n",
    "- If freq == 'D': get daily pr files\n",
    "- Concat 3 dfs of pr data:\n",
    "    - [historical, ssp126]\n",
    "    - [historical, ssp245]\n",
    "    - [historical, ssp370]\n",
    "- Calculate SPI for each model using \"from standard_precip.spi import SPI\"\n",
    "- Extract results JJA for 2015-2100 for spi and tasmax\n",
    "    - Filter by common model/column names\n",
    "    - Concat spi and tasmax axis=0\n",
    "    - Concat ssp's axis=1\n",
    "    - Determine if compound\n",
    "    - Output 1 df\n",
    "\n",
    "### Problem:\n",
    "- KACE-1-0-G currently skipped since division by zero error (~1000 missing)\n",
    "- SPI calc does not handle nan's well: 1 row of missing pr results in at least 30 rows of missing spi\n",
    "\n",
    "- Why are there missing values? Outputs below\n",
    "    - KACE-1-0-G: does not have a value for 31st day of month\n",
    "    - All models missing 37 values: no value for some 29th day of month\n",
    "        - [INM-CM4-8, INM-CM5-0, NorESM2-MM, NorESM2-LM, GFDL-ESM4, GISS-E2-1-G, FGOALS-g3, BCC-CSM2-MR, CMCC-ESM2, CESM2]\n",
    "     \n",
    "- How to handle missing values? \n",
    "    - Check original code\n",
    "    - Options: interpolation by time, multivariate interpolation (slow), back/front fill"
   ]
  },
  {
   "cell_type": "code",
   "execution_count": 1,
   "id": "e27ed16c-2093-4514-ace3-005632cdf125",
   "metadata": {},
   "outputs": [
    {
     "name": "stdout",
     "output_type": "stream",
     "text": [
      "ssp126:\n",
      "Error calculating SPI for KACE-1-0-G: division by zero\n",
      "\n",
      "ssp245:\n",
      "Error calculating SPI for KACE-1-0-G: division by zero\n",
      "\n",
      "ssp370:\n",
      "Error calculating SPI for KACE-1-0-G: division by zero\n",
      "\n",
      "CPU times: user 35.7 s, sys: 1.6 s, total: 37.3 s\n",
      "Wall time: 37.6 s\n"
     ]
    }
   ],
   "source": [
    "%%time\n",
    "\n",
    "from process import *\n",
    "import os\n",
    "import calendar\n",
    "import pandas as pd\n",
    "import warnings\n",
    "import matplotlib.pyplot as plt\n",
    "import seaborn as sns\n",
    "import plotly.graph_objects as go\n",
    "import plotly.express as px\n",
    "from plotly.subplots import make_subplots\n",
    "from standard_precip.spi import SPI\n",
    "\n",
    "warnings.filterwarnings('ignore')\n",
    "\n",
    "plt.rcParams['figure.figsize'] = (15, 4)\n",
    "plt.rcParams['figure.dpi'] = 300 # 600\n",
    "plt.rcParams['font.size'] = 10\n",
    "plt.rcParams['figure.titlesize'] = 15\n",
    "plt.rcParams['axes.linewidth'] = 0.1\n",
    "plt.rcParams['patch.linewidth'] = 0\n",
    "plt.rcParams['grid.linewidth'] = 0.1\n",
    "\n",
    "event = ['CWHE','CDHE'][1]\n",
    "months = [6, 7, 8]\n",
    "center='LARC'\n",
    "\n",
    "freq='D'\n",
    "scale=30\n",
    "\n",
    "initialize(center, event, months, freq, scale)\n",
    "\n",
    "def read_data(filename):\n",
    "    df = pd.read_csv(filename).rename(columns={'Unnamed: 0': 'date'})\n",
    "    df['date'] = pd.to_datetime(df['date'])\n",
    "    return df\n",
    "    \n",
    "# Get filenames\n",
    "pr_files = [file for file in get_files() if 'pr_' in file]\n",
    "historical_file = next(file for file in pr_files if 'historical' in file)\n",
    "if type(historical_file) != str:\n",
    "    raise TypeError(f'{historical_file} should be one filename')\n",
    "ssp_files = sorted([file for file in pr_files if 'ssp' in file])\n",
    "    \n",
    "# Combine historical and ssp dataframes\n",
    "historical_df = read_data(historical_file)\n",
    "spi_dfs = {}\n",
    "for ssp_file in ssp_files:\n",
    "    ssp_name = ssp_file.split('/')[-1].split('_')[2].split('.')[0]\n",
    "    spi_dfs[ssp_name] = pd.concat([historical_df, read_data(ssp_file)], ignore_index=True)\n",
    "\n",
    "# Calculate SPI\n",
    "\n",
    "for ssp_name, df in spi_dfs.items():\n",
    "    print(f'{ssp_name}:')\n",
    "    spi_df = pd.DataFrame({'date': df['date']})\n",
    "    columns = df.columns[1:]\n",
    "    for col in columns:\n",
    "        try:\n",
    "            spi_df[f'{col}_spi'] = (SPI().calculate(df, 'date', col, freq=freq, scale=scale, \n",
    "                                           fit_type='lmom', dist_type='gam')\n",
    "                                .filter(regex='_calculated_index$'))\n",
    "        except Exception as e:\n",
    "            print(f'Error calculating SPI for {col}: {e}\\n')\n",
    "    spi_dfs[ssp_name] = spi_dfs[ssp_name].merge(spi_df, on='date')"
   ]
  },
  {
   "cell_type": "markdown",
   "id": "2ec9365d-1486-4d96-a52e-c4b753b75aae",
   "metadata": {},
   "source": [
    "# Missing values"
   ]
  },
  {
   "cell_type": "code",
   "execution_count": 2,
   "id": "a7f68dd2-8d23-49f5-86f3-13702ababef0",
   "metadata": {},
   "outputs": [
    {
     "name": "stdout",
     "output_type": "stream",
     "text": [
      "1110 31710 \n",
      "\n"
     ]
    },
    {
     "data": {
      "text/plain": [
       "INM-CM4-8                  37\n",
       "INM-CM5-0                  37\n",
       "NorESM2-MM                 37\n",
       "NorESM2-LM                 37\n",
       "GFDL-ESM4                  37\n",
       "GISS-E2-1-G                37\n",
       "FGOALS-g3                  37\n",
       "BCC-CSM2-MR                37\n",
       "CMCC-ESM2                  37\n",
       "KACE-1-0-G               1057\n",
       "CESM2                      37\n",
       "INM-CM4-8_scale_30       1139\n",
       "INM-CM5-0_scale_30       1139\n",
       "NorESM2-MM_scale_30      1139\n",
       "NorESM2-LM_scale_30      1139\n",
       "GFDL-ESM4_scale_30       1139\n",
       "GISS-E2-1-G_scale_30     1139\n",
       "FGOALS-g3_scale_30       1139\n",
       "BCC-CSM2-MR_scale_30     1139\n",
       "CMCC-ESM2_scale_30       1139\n",
       "KACE-1-0-G_scale_30     31710\n",
       "CESM2_scale_30           1139\n",
       "INM-CM4-8_spi            1139\n",
       "INM-CM5-0_spi            1139\n",
       "NorESM2-MM_spi           1139\n",
       "NorESM2-LM_spi           1139\n",
       "GFDL-ESM4_spi            1139\n",
       "GISS-E2-1-G_spi          1139\n",
       "FGOALS-g3_spi            1139\n",
       "BCC-CSM2-MR_spi          1139\n",
       "CMCC-ESM2_spi            1139\n",
       "CESM2_spi                1139\n",
       "dtype: int64"
      ]
     },
     "metadata": {},
     "output_type": "display_data"
    }
   ],
   "source": [
    "# Check for missing nulls\n",
    "nan_count = spi_dfs[ssp_name].isnull().sum()\n",
    "print(37*30, 1057*30, '\\n')\n",
    "display(nan_count[nan_count>(scale-1)])"
   ]
  },
  {
   "cell_type": "code",
   "execution_count": 3,
   "id": "2736e85c-e160-49d7-9215-155b15c9371f",
   "metadata": {},
   "outputs": [
    {
     "name": "stdout",
     "output_type": "stream",
     "text": [
      "[29] \n",
      "\n"
     ]
    },
    {
     "data": {
      "text/plain": [
       "789     1952-02-29\n",
       "2250    1956-02-29\n",
       "3711    1960-02-29\n",
       "5172    1964-02-29\n",
       "6633    1968-02-29\n",
       "8094    1972-02-29\n",
       "9555    1976-02-29\n",
       "11016   1980-02-29\n",
       "12477   1984-02-29\n",
       "13938   1988-02-29\n",
       "15399   1992-02-29\n",
       "16860   1996-02-29\n",
       "18321   2000-02-29\n",
       "19782   2004-02-29\n",
       "21243   2008-02-29\n",
       "22704   2012-02-29\n",
       "24165   2016-02-29\n",
       "25626   2020-02-29\n",
       "27087   2024-02-29\n",
       "28548   2028-02-29\n",
       "30009   2032-02-29\n",
       "31470   2036-02-29\n",
       "32931   2040-02-29\n",
       "34392   2044-02-29\n",
       "35853   2048-02-29\n",
       "37314   2052-02-29\n",
       "38775   2056-02-29\n",
       "40236   2060-02-29\n",
       "41697   2064-02-29\n",
       "43158   2068-02-29\n",
       "44619   2072-02-29\n",
       "46080   2076-02-29\n",
       "47541   2080-02-29\n",
       "49002   2084-02-29\n",
       "50463   2088-02-29\n",
       "51924   2092-02-29\n",
       "53385   2096-02-29\n",
       "Name: date, dtype: datetime64[ns]"
      ]
     },
     "metadata": {},
     "output_type": "display_data"
    }
   ],
   "source": [
    "# Same output/rows for all models that are missing 37 values\n",
    "aa = spi_dfs[ssp_name][spi_dfs[ssp_name]['CMCC-ESM2'].isnull()].date\n",
    "print(aa.dt.day.unique(), '\\n')\n",
    "display(aa)"
   ]
  },
  {
   "cell_type": "code",
   "execution_count": 4,
   "id": "6a65b2b7-b9ad-4331-8ce1-2ee09f64182d",
   "metadata": {},
   "outputs": [
    {
     "name": "stdout",
     "output_type": "stream",
     "text": [
      "[31] \n",
      "\n"
     ]
    },
    {
     "data": {
      "text/plain": [
       "30      1950-01-31\n",
       "89      1950-03-31\n",
       "150     1950-05-31\n",
       "211     1950-07-31\n",
       "242     1950-08-31\n",
       "           ...    \n",
       "54937   2100-05-31\n",
       "54998   2100-07-31\n",
       "55029   2100-08-31\n",
       "55090   2100-10-31\n",
       "55151   2100-12-31\n",
       "Name: date, Length: 1057, dtype: datetime64[ns]"
      ]
     },
     "metadata": {},
     "output_type": "display_data"
    }
   ],
   "source": [
    "# Missing 1057 values\n",
    "aa = spi_dfs[ssp_name][spi_dfs[ssp_name]['KACE-1-0-G'].isnull()].date\n",
    "print(aa.dt.day.unique(), '\\n')\n",
    "display(aa)"
   ]
  },
  {
   "cell_type": "code",
   "execution_count": null,
   "id": "11799fa4-f00e-42cb-9eba-f2defbe751bf",
   "metadata": {},
   "outputs": [],
   "source": []
  },
  {
   "cell_type": "code",
   "execution_count": null,
   "id": "9588ca3b-dbd9-4a13-b2a4-f1c4f4898e04",
   "metadata": {},
   "outputs": [],
   "source": []
  },
  {
   "cell_type": "code",
   "execution_count": null,
   "id": "65fcf630-eab7-4817-9ef5-4d80dbc6dd35",
   "metadata": {},
   "outputs": [],
   "source": []
  },
  {
   "cell_type": "code",
   "execution_count": null,
   "id": "be4fec28-7e63-48d8-abcd-ed2a705f8946",
   "metadata": {},
   "outputs": [],
   "source": []
  },
  {
   "cell_type": "code",
   "execution_count": null,
   "id": "920f3b70-6c6e-4c0c-9ba3-17a3dd3ba7ff",
   "metadata": {},
   "outputs": [],
   "source": []
  },
  {
   "cell_type": "code",
   "execution_count": null,
   "id": "a91572ff-7323-4343-9b5b-f35c004b2f84",
   "metadata": {},
   "outputs": [],
   "source": []
  },
  {
   "cell_type": "code",
   "execution_count": null,
   "id": "bbddc012-d13f-42d3-b781-e8f6765b7417",
   "metadata": {},
   "outputs": [],
   "source": [
    "# for column in spi_dfs[ssp_name].columns[1:]:\n",
    "#     spi_dfs[ssp_name][column].plot.kde()\n",
    "#     plt.title(f'Precipitation')\n",
    "# plt.xlabel('Models')\n",
    "# plt.ylabel('Density')\n",
    "# plt.show()"
   ]
  },
  {
   "cell_type": "code",
   "execution_count": null,
   "id": "c274c849-550c-4df4-a7f3-f157d427023b",
   "metadata": {},
   "outputs": [],
   "source": [
    "# import pandas as pd\n",
    "# import numpy as np\n",
    "\n",
    "\n",
    "# daily = pd.read_csv('../compound/LARC_pr_ssp126_daily.csv').rename(columns={'Unnamed: 0': 'date'})\n",
    "# monthly = pd.read_csv('../compound/LARC_pr_ssp126_monthly_avg.csv').rename(columns={'Unnamed: 0': 'date'})\n",
    "\n",
    "# col = 'INM-CM4-8'\n",
    "\n",
    "# daily_ = SPI().calculate(daily, 'date', col, freq='D', scale=30, \n",
    "#                        fit_type='lmom', dist_type='gam').dropna()\n",
    "# monthly_ = SPI().calculate(monthly, 'date', col, freq='M', scale=1, \n",
    "#                        fit_type='lmom', dist_type='gam')#.dropna()\n",
    "# print('daily spi')\n",
    "# display(daily_.head(10).iloc[:, [0,2]])\n",
    "# print('\\nmonthly spi')\n",
    "# display(monthly_.head(10).iloc[:, [0,2]])"
   ]
  },
  {
   "cell_type": "code",
   "execution_count": null,
   "id": "ec7e6631-33af-4fe5-a963-c72e55416777",
   "metadata": {},
   "outputs": [],
   "source": [
    "# daily_.iloc[2:30]#.mean()"
   ]
  },
  {
   "cell_type": "code",
   "execution_count": null,
   "id": "a7fece9d-c1fa-457b-8952-a097e636b743",
   "metadata": {},
   "outputs": [],
   "source": [
    "# # 1 month SPI using Gamma and L-moments\n",
    "# for col in df.columns[1:]:\n",
    "#     print(col)\n",
    "#     spi = SPI().calculate(df, 'date', col, freq='D', scale=12, \n",
    "#                                  fit_type='lmom', dist_type='gam')"
   ]
  },
  {
   "cell_type": "code",
   "execution_count": null,
   "id": "a768ed17-2647-44f0-996f-de6ca0537d85",
   "metadata": {},
   "outputs": [],
   "source": [
    "# from standard_precip.utils import plot_index\n",
    "# plot_index(spi, 'date', 'INM-CM4-8_calculated_index')\n"
   ]
  },
  {
   "cell_type": "code",
   "execution_count": null,
   "id": "8685450e-89bb-4fe8-b345-26e6abd7cee8",
   "metadata": {},
   "outputs": [],
   "source": [
    "# %%time\n",
    "# from process_base import *\n",
    "# # import plot as plot\n",
    "# import pandas as pd\n",
    "\n",
    "# plotly = False\n",
    "\n",
    "# CENTERS = ['AMES', 'GSFC', 'JPL', 'KSC', 'MSFC', 'MAF', 'GISS',\n",
    "#            'LARC', 'SSC', 'GRC', 'WFF', 'JSC', 'WSTF', 'AFRC']\n",
    "\n",
    "# event = ['CWHE','CDHE'][1]\n",
    "# months = [6, 7, 8]\n",
    "# center='LARC'\n",
    "\n",
    "# initialize(center, event, months)\n",
    "# threshold = setup_thresholds(event)[0]\n",
    "# files = {key[0]: [f for f in sorted(get_files()) if any(k in f for k in key)] \n",
    "#              for key in [['historical', 'ssp245'], ['ssp']]}"
   ]
  },
  {
   "cell_type": "code",
   "execution_count": null,
   "id": "1e95c0ff-08b0-41dd-b9cd-e5f0c3c6a659",
   "metadata": {},
   "outputs": [],
   "source": [
    "# from process import *\n",
    "\n",
    "# event = ['CWHE','CDHE'][1]\n",
    "# months = [6, 7, 8]\n",
    "# center='LARC'\n",
    "\n",
    "# ssp_dfs, hist, comp, results, pr, tm = main(center, event, months)"
   ]
  },
  {
   "cell_type": "code",
   "execution_count": null,
   "id": "b6c79cda-645f-4b1b-9c49-f9f08845fb69",
   "metadata": {},
   "outputs": [],
   "source": [
    "# %%time\n",
    "# results = defaultdict(lambda: pd.DataFrame())\n",
    "# for f in files['historical']:\n",
    "#     name, df = preprocess_file(f, True, threshold)\n",
    "#     results[name] = pd.concat([results[name], df], axis=0)\n",
    "\n",
    "# common_columns = set(results[next(iter(results))].columns)\n",
    "# for name, df in results.items():\n",
    "#     common_columns.intersection_update(df.columns)\n",
    "# common_columns = list(common_columns)"
   ]
  },
  {
   "cell_type": "code",
   "execution_count": null,
   "id": "366ca5e3-c535-4f75-a0bc-03fc1d874c0f",
   "metadata": {},
   "outputs": [],
   "source": [
    "# results['pr'][common_columns]"
   ]
  },
  {
   "cell_type": "code",
   "execution_count": null,
   "id": "e17eadc1-30ab-419c-ae86-e87df772f4d2",
   "metadata": {},
   "outputs": [],
   "source": [
    "# pd.concat(results.values())"
   ]
  },
  {
   "cell_type": "code",
   "execution_count": null,
   "id": "8e5d6c9a-5062-48f8-beb8-84d245dc0e56",
   "metadata": {},
   "outputs": [],
   "source": [
    "# p = 0.5\n",
    "# aa = results['pr'].rolling(window=30).mean().dropna(how='all')\n",
    "# aa.groupby(aa.index.strftime('%m-%d')).quantile(p)"
   ]
  },
  {
   "cell_type": "code",
   "execution_count": null,
   "id": "b6bddf80-fa96-4fa2-8ccd-c4be660f7b77",
   "metadata": {},
   "outputs": [],
   "source": [
    "# # Thresholds\n",
    "# for t, df in hist.items():\n",
    "#     print(t, '\\n', df.mean(), '\\n')"
   ]
  }
 ],
 "metadata": {
  "kernelspec": {
   "display_name": "Python 3 (ipykernel)",
   "language": "python",
   "name": "python3"
  },
  "language_info": {
   "codemirror_mode": {
    "name": "ipython",
    "version": 3
   },
   "file_extension": ".py",
   "mimetype": "text/x-python",
   "name": "python",
   "nbconvert_exporter": "python",
   "pygments_lexer": "ipython3",
   "version": "3.13.2"
  }
 },
 "nbformat": 4,
 "nbformat_minor": 5
}
